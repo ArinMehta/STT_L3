{
 "cells": [
  {
   "cell_type": "markdown",
   "id": "7073bcac",
   "metadata": {},
   "source": [
    "Importing Libraries"
   ]
  },
  {
   "cell_type": "code",
   "execution_count": 2,
   "id": "959f0113",
   "metadata": {},
   "outputs": [],
   "source": [
    "from pydriller import Repository\n",
    "import csv\n",
    "import pandas as pd\n",
    "import torch\n",
    "import numpy as np\n",
    "import matplotlib.pyplot as plt"
   ]
  },
  {
   "cell_type": "markdown",
   "id": "1f0b7f4c",
   "metadata": {},
   "source": [
    "Importing Repo URL"
   ]
  },
  {
   "cell_type": "code",
   "execution_count": 33,
   "id": "7ad070e3",
   "metadata": {},
   "outputs": [],
   "source": [
    "repo_url = 'https://github.com/pythonprofilers/memory_profiler.git'\n",
    "\n",
    "repo = Repository(repo_url)"
   ]
  },
  {
   "cell_type": "markdown",
   "id": "a17669f6",
   "metadata": {},
   "source": [
    "Mining Bug fixing commits"
   ]
  },
  {
   "cell_type": "code",
   "execution_count": 14,
   "id": "13b1c1da",
   "metadata": {},
   "outputs": [
    {
     "name": "stdout",
     "output_type": "stream",
     "text": [
      "                    Hash              Message    Hashes of Parents Is a merge commit List of modified files\n",
      "0    8800fe9252802753...  Port to OSX and ...  ['76745998505624...                No  ['examples/plot_...  \n",
      "1    c953ca4a9df3a332...  FIX: display las...  ['8af133fea44642...                No  ['memory_profile...  \n",
      "2    ec9ee7032b01cf93...  Fix typos in REA...  ['992bb0a8c911e1...                No  ['README.rst', '...  \n",
      "3    4214cfc13d033c43...  FIX: README.rst ...  ['ea5d79bd10b52b...                No  ['MANIFEST', 'me...  \n",
      "4    303cab8df4b2274c...  Explicit error f...  ['7a9ec119e19086...                No  ['memory_profile...  \n",
      "..                   ...                  ...                  ...               ...                  ...  \n",
      "196  dd9ed705449638f4...  Merge pull reque...  ['4b81aee7064ba4...               Yes                   []  \n",
      "197  940aa76f5da8b7cb...  Fix deprecated s...  ['57b643a84e1b7f...                No  ['test/test_exit...  \n",
      "198  e079d3fa35188908...  Fix deprecated s...  ['57b643a84e1b7f...               Yes                   []  \n",
      "199  9b26810c956ed176...  Update README.rs...  ['e079d3fa351889...                No       ['README.rst']  \n",
      "200  3ae050f6cabfb994...  Update README.rs...  ['e079d3fa351889...               Yes                   []  \n",
      "\n",
      "[201 rows x 5 columns]\n"
     ]
    }
   ],
   "source": [
    "keywords = ['fix', 'fixes', 'fixed', 'bug', 'bugfix', 'defect', 'defects',\n",
    "            'error', 'issue', 'patch', 'repair', 'fault', 'resolved', 'resolve']\n",
    "\n",
    "def is_a_bug_fixing_commit(msg):\n",
    "    if msg is None or msg == \"\":\n",
    "        return False\n",
    "    msg = msg.lower()\n",
    "    for keyword in keywords:\n",
    "        if keyword in msg:\n",
    "            return True\n",
    "    return False\n",
    "\n",
    "with open(\"bug_fixing_commits.csv\", mode='w', newline='', encoding='utf-8') as file:\n",
    "    write = csv.writer(file)\n",
    "    write.writerow([\"Hash\", \"Message\", \"Hashes of Parents\",\n",
    "                    \"Is a merge commit\", \"List of modified files\"])\n",
    "    \n",
    "    for commit in repo.traverse_commits():\n",
    "        msg = commit.msg.lower()\n",
    "        if is_a_bug_fixing_commit(msg) == True:\n",
    "\n",
    "            parents = commit.parents\n",
    "\n",
    "            if len(commit.parents) > 1:\n",
    "                is_merge = \"Yes\"\n",
    "            else:\n",
    "                is_merge = \"No\"\n",
    "\n",
    "            modif_file = []\n",
    "            for mod in commit.modified_files:\n",
    "                if mod.new_path:\n",
    "                    modif_file.append(mod.new_path)\n",
    "\n",
    "            write.writerow([commit.hash, commit.msg.strip().replace(\"\\n\",\" \"),\n",
    "                           parents, is_merge, modif_file])\n",
    "\n",
    "pd.set_option(\"display.width\", 200) \n",
    "pd.set_option(\"display.max_colwidth\", 20)\n",
    "df = pd.read_csv(\"bug_fixing_commits.csv\")\n",
    "df = pd.DataFrame(df)\n",
    "print(df)"
   ]
  },
  {
   "cell_type": "markdown",
   "id": "8bee7201",
   "metadata": {},
   "source": [
    "Part e"
   ]
  },
  {
   "cell_type": "code",
   "execution_count": 16,
   "id": "8f67ab49",
   "metadata": {},
   "outputs": [
    {
     "name": "stdout",
     "output_type": "stream",
     "text": [
      "                                        Hash                                  Message                           Filename                     Source Code (before)                    Source Code (current)                                     Diff  LLM Inference (fix type)  Rectified Message\n",
      "0    8800fe9252802753643a0e48de52c9d8d12f...              Port to OSX and other fixes            examples/plot_memory.py  \"\"\"\\nPlot memory usage of a numeric ...  \"\"\"\\nPlot memory usage of a numeric ...  @@ -1,38 +1,18 @@\\n \"\"\"\\n Plot memor...                       NaN                NaN\n",
      "1    8800fe9252802753643a0e48de52c9d8d12f...              Port to OSX and other fixes                 memory_profiler.py  \"\"\"Get process information\"\"\"\\n\\n__v...  \"\"\"Get process information\"\"\"\\n\\n__v...  @@ -6,17 +6,18 @@ _CMD_USAGE = \"pyth...                       NaN                NaN\n",
      "2    c953ca4a9df3a3321166803752608b70e2f2...              FIX: display last statement                 memory_profiler.py  \"\"\"Get process information\"\"\"\\n\\n__v...  \"\"\"Get process information\"\"\"\\n\\n__v...  @@ -224,7 +224,7 @@ def show_results...                       NaN                NaN\n",
      "3    ec9ee7032b01cf9350628a57f9c5111a4809...  Fix typos in README and make a new r...                         README.rst  Memory Profiler\\n---------------\\nTh...  Memory Profiler\\n---------------\\nTh...  @@ -9,7 +9,7 @@ Installation\\n -----...                       NaN                NaN\n",
      "4    ec9ee7032b01cf9350628a57f9c5111a4809...  Fix typos in README and make a new r...                 memory_profiler.py  \"\"\"Get process information\"\"\"\\n\\n__v...  \"\"\"Get process information\"\"\"\\n\\n__v...  @@ -1,6 +1,6 @@\\n \"\"\"Get process inf...                       NaN                NaN\n",
      "..                                       ...                                      ...                                ...                                      ...                                      ...                                      ...                       ...                ...\n",
      "167  b4d070a00fdc9916461c1608f281cccd025e...            Fix typos: Relevant arguments                 memory_profiler.py  \"\"\"Profile the memory usage of a Pyt...  \"\"\"Profile the memory usage of a Pyt...  @@ -317,7 +317,7 @@ def memory_usage...                       NaN                NaN\n",
      "168  603f030d3a9f6bd3bb37f1f3fa1e6eb94839...  python -m memory_profiler pytest --f...  .github/workflows/lint_python.yml  name: lint_python\\non: [pull_request...  name: lint_python\\non: [pull_request...  @@ -22,7 +22,7 @@ jobs:\\n       - ru...                       NaN                NaN\n",
      "169  7c0f1f14057ea8c80ec90ca1bb6b83c2984b...  from types import coroutine  `corout...                 memory_profiler.py  \"\"\"Profile the memory usage of a Pyt...  \"\"\"Profile the memory usage of a Pyt...  @@ -7,9 +7,10 @@ __version__ = '0.60...                       NaN                NaN\n",
      "170  940aa76f5da8b7cba5938f17990da054e013...                    Fix deprecated syntax             test/test_exit_code.py  import unittest\\nimport sys\\nimport ...  import unittest\\nimport sys\\nimport ...  @@ -18,7 +18,7 @@ class TestExitCode...                       NaN                NaN\n",
      "171  9b26810c956ed176bc1b6bbfa23ce838dd0d...  Update README.rst  Update the defini...                         README.rst  .. image:: https://travis-ci.org/pyt...  .. image:: https://travis-ci.org/pyt...  @@ -95,8 +95,9 @@ The first column r...                       NaN                NaN\n",
      "\n",
      "[172 rows x 8 columns]\n"
     ]
    }
   ],
   "source": [
    "with open(\"diff_extraction.csv\", mode='w',newline='', encoding='utf-8') as file2:\n",
    "    write = csv.writer(file2)\n",
    "    write.writerow([\n",
    "        \"Hash\", \"Message\", \"Filename\",\n",
    "        \"Source Code (before)\", \"Source Code (current)\",\n",
    "        \"Diff\", \"LLM Inference (fix type)\", \"Rectified Message\"\n",
    "    ])\n",
    "    \n",
    "    for commit in repo.traverse_commits():\n",
    "        if is_a_bug_fixing_commit(commit.msg):\n",
    "            for mod in commit.modified_files:\n",
    "                write.writerow([ commit.hash, commit.msg.strip().replace(\"\\n\", \" \"), mod.new_path, \n",
    "                                mod.source_code_before if mod.source_code_before else \"\",\n",
    "                                mod.source_code if mod.source_code else \"\", mod.diff if mod.diff else \"\", \"\", \"\"])\n",
    "\n",
    "pd.set_option(\"display.width\", 320)\n",
    "pd.set_option(\"display.max_colwidth\", 40)\n",
    "df = pd.read_csv(\"diff_extraction.csv\")\n",
    "df = pd.DataFrame(df)\n",
    "print(df)\n"
   ]
  },
  {
   "cell_type": "markdown",
   "id": "0b5ca539",
   "metadata": {},
   "source": [
    "Loading the LLM"
   ]
  },
  {
   "cell_type": "code",
   "execution_count": 3,
   "id": "7db6d33e",
   "metadata": {},
   "outputs": [
    {
     "name": "stderr",
     "output_type": "stream",
     "text": [
      "/Users/arinmehta/Documents/GitHub/STT/Assignment-1/pydriller_env/lib/python3.10/site-packages/tqdm/auto.py:21: TqdmWarning: IProgress not found. Please update jupyter and ipywidgets. See https://ipywidgets.readthedocs.io/en/stable/user_install.html\n",
      "  from .autonotebook import tqdm as notebook_tqdm\n"
     ]
    }
   ],
   "source": [
    "# Load model directly\n",
    "from transformers import AutoTokenizer, AutoModelForSeq2SeqLM\n",
    "\n",
    "tokenizer = AutoTokenizer.from_pretrained(\"mamiksik/CommitPredictorT5\")\n",
    "model = AutoModelForSeq2SeqLM.from_pretrained(\"mamiksik/CommitPredictorT5\")"
   ]
  },
  {
   "cell_type": "markdown",
   "id": "6791b415",
   "metadata": {},
   "source": [
    "Using the LLM on the Diff"
   ]
  },
  {
   "cell_type": "code",
   "execution_count": 5,
   "id": "3f413441",
   "metadata": {},
   "outputs": [
    {
     "name": "stdout",
     "output_type": "stream",
     "text": [
      "                                        Hash                                  Message                           Filename                     Source Code (before)                    Source Code (current)                                     Diff                LLM Inference (fix type)                       Rectified Message\n",
      "0    8800fe9252802753643a0e48de52c9d8d12f...              Port to OSX and other fixes            examples/plot_memory.py  \"\"\"\\nPlot memory usage of a numeric ...  \"\"\"\\nPlot memory usage of a numeric ...  @@ -1,38 +1,18 @@\\n \"\"\"\\n Plot memor...                   add memory usage plot                   add memory usage plot\n",
      "1    8800fe9252802753643a0e48de52c9d8d12f...              Port to OSX and other fixes                 memory_profiler.py  \"\"\"Get process information\"\"\"\\n\\n__v...  \"\"\"Get process information\"\"\"\\n\\n__v...  @@ -6,17 +6,18 @@ _CMD_USAGE = \"pyth...               add docs for memory_usage               add docs for memory_usage\n",
      "2    c953ca4a9df3a3321166803752608b70e2f2...              FIX: display last statement                 memory_profiler.py  \"\"\"Get process information\"\"\"\\n\\n__v...  \"\"\"Get process information\"\"\"\\n\\n__v...  @@ -224,7 +224,7 @@ def show_results...  show memory usage in profiling results  show memory usage in profiling results\n",
      "3    ec9ee7032b01cf9350628a57f9c5111a4809...  Fix typos in README and make a new r...                         README.rst  Memory Profiler\\n---------------\\nTh...  Memory Profiler\\n---------------\\nTh...  @@ -9,7 +9,7 @@ Installation\\n -----...               add missing documentation               add missing documentation\n",
      "4    ec9ee7032b01cf9350628a57f9c5111a4809...  Fix typos in README and make a new r...                 memory_profiler.py  \"\"\"Get process information\"\"\"\\n\\n__v...  \"\"\"Get process information\"\"\"\\n\\n__v...  @@ -1,6 +1,6 @@\\n \"\"\"Get process inf...                        add missing line                        add missing line\n",
      "..                                       ...                                      ...                                ...                                      ...                                      ...                                      ...                                     ...                                     ...\n",
      "167  b4d070a00fdc9916461c1608f281cccd025e...            Fix typos: Relevant arguments                 memory_profiler.py  \"\"\"Profile the memory usage of a Pyt...  \"\"\"Profile the memory usage of a Pyt...  @@ -317,7 +317,7 @@ def memory_usage...                add doc for memory_usage                add doc for memory_usage\n",
      "168  603f030d3a9f6bd3bb37f1f3fa1e6eb94839...  python -m memory_profiler pytest --f...  .github/workflows/lint_python.yml  name: lint_python\\non: [pull_request...  name: lint_python\\non: [pull_request...  @@ -22,7 +22,7 @@ jobs:\\n       - ru...                 add missing test script                 add missing test script\n",
      "169  7c0f1f14057ea8c80ec90ca1bb6b83c2984b...  from types import coroutine  `corout...                 memory_profiler.py  \"\"\"Profile the memory usage of a Pyt...  \"\"\"Profile the memory usage of a Pyt...  @@ -7,9 +7,10 @@ __version__ = '0.60...                      add missing import                      add missing import\n",
      "170  940aa76f5da8b7cba5938f17990da054e013...                    Fix deprecated syntax             test/test_exit_code.py  import unittest\\nimport sys\\nimport ...  import unittest\\nimport sys\\nimport ...  @@ -18,7 +18,7 @@ class TestExitCode...          add more tests for --exit-code          add more tests for --exit-code\n",
      "171  9b26810c956ed176bc1b6bbfa23ce838dd0d...  Update README.rst  Update the defini...                         README.rst  .. image:: https://travis-ci.org/pyt...  .. image:: https://travis-ci.org/pyt...  @@ -95,8 +95,9 @@ The first column r...         add missing docs to profiled.js         add missing docs to profiled.js\n",
      "\n",
      "[172 rows x 8 columns]\n"
     ]
    }
   ],
   "source": [
    "df = pd.read_csv(\"diff_extraction.csv\")\n",
    "\n",
    "for i,row in df.iterrows():\n",
    "    diff_text = str(row['Diff']).strip()\n",
    "\n",
    "    cur = str(row['LLM Inference (fix type)']).strip()\n",
    "    df.at[i, 'Rectified Message'] = cur\n",
    "\n",
    "    if cur != \"\" and cur.lower() != \"nan\":\n",
    "        continue\n",
    "\n",
    "    if diff_text.strip()==\"\":\n",
    "        df.at[i, 'LLM Inference (fix type)'] = \" \"\n",
    "        df.at[i, 'Rectified Message'] = \" \"\n",
    "\n",
    "    else:\n",
    "        inputs = tokenizer(diff_text, return_tensors=\"pt\", truncation=True, max_length=512)\n",
    "        outputs = model.generate(**inputs)\n",
    "        prediction = tokenizer.decode(outputs[0], skip_special_tokens=True)\n",
    "        df.at[i, 'LLM Inference (fix type)'] = prediction \n",
    "        df.at[i, 'Rectified Message'] = prediction\n",
    "\n",
    "df.to_csv(\"diff_extraction.csv\", index=False)\n",
    "\n",
    "pd.set_option(\"display.width\", 350)\n",
    "pd.set_option(\"display.max_colwidth\", 40)\n",
    "df = pd.read_csv(\"diff_extraction.csv\")\n",
    "df = pd.DataFrame(df)\n",
    "print(df)\n"
   ]
  },
  {
   "cell_type": "code",
   "execution_count": 11,
   "id": "dc56dea8",
   "metadata": {},
   "outputs": [
    {
     "name": "stdout",
     "output_type": "stream",
     "text": [
      "Hit Rates (stricter evaluation):\n",
      "RQ1 (Developer): 89.53%\n",
      "RQ2 (LLM): 99.42%\n",
      "RQ3 (Rectifier): 99.42%\n"
     ]
    }
   ],
   "source": [
    "trivial = {\"fix\", \"update\", \"typo\", \"bug\", \"minor change\", \"change\"}\n",
    "\n",
    "def is_precise(msg):\n",
    "    msg = str(msg).strip().lower()\n",
    "    if len(msg) < 10: \n",
    "        return False\n",
    "    if msg in trivial:\n",
    "        return False\n",
    "    if len(msg) > 200: \n",
    "        return False\n",
    "    return True\n",
    "\n",
    "df['Dev_Precise'] = df['Message'].apply(is_precise)\n",
    "df['LLM_Precise'] = df['LLM Inference (fix type)'].apply(is_precise)\n",
    "df['Rectified_Precise'] = df['Rectified Message'].apply(is_precise)\n",
    "\n",
    "total_commits = len(df)\n",
    "dev_hit_rate = df['Dev_Precise'].sum() / total_commits\n",
    "llm_hit_rate = df['LLM_Precise'].sum() / total_commits\n",
    "rectified_hit_rate = df['Rectified_Precise'].sum() / total_commits\n",
    "\n",
    "print(\"Hit Rates (stricter evaluation):\")\n",
    "print(f\"RQ1 (Developer): {dev_hit_rate:.2%}\")\n",
    "print(f\"RQ2 (LLM): {llm_hit_rate:.2%}\")\n",
    "print(f\"RQ3 (Rectifier): {rectified_hit_rate:.2%}\")\n"
   ]
  },
  {
   "cell_type": "code",
   "execution_count": 12,
   "id": "42c80cfa",
   "metadata": {},
   "outputs": [
    {
     "name": "stdout",
     "output_type": "stream",
     "text": [
      "                RQ  Hit Rate (%)\n",
      "0  RQ1 (Developer)     89.534884\n",
      "1        RQ2 (LLM)     99.418605\n",
      "2  RQ3 (Rectifier)     99.418605\n"
     ]
    }
   ],
   "source": [
    "hit_table = pd.DataFrame({\n",
    "    'RQ': ['RQ1 (Developer)', 'RQ2 (LLM)', 'RQ3 (Rectifier)'],\n",
    "    'Hit Rate (%)': [dev_hit_rate*100, llm_hit_rate*100, rectified_hit_rate*100]\n",
    "})\n",
    "\n",
    "print(hit_table)"
   ]
  }
 ],
 "metadata": {
  "kernelspec": {
   "display_name": "pydriller_env",
   "language": "python",
   "name": "python3"
  },
  "language_info": {
   "codemirror_mode": {
    "name": "ipython",
    "version": 3
   },
   "file_extension": ".py",
   "mimetype": "text/x-python",
   "name": "python",
   "nbconvert_exporter": "python",
   "pygments_lexer": "ipython3",
   "version": "3.10.13"
  }
 },
 "nbformat": 4,
 "nbformat_minor": 5
}
